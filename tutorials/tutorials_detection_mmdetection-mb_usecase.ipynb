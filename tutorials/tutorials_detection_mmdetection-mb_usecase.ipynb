{
 "cells": [
  {
   "cell_type": "markdown",
   "metadata": {
    "id": "osTQZUCg-vQF"
   },
   "source": [
    "# Tutorial: Model Builder - A Data-Centric Way to Train your own Obejct Detection Models"
   ]
  },
  {
   "cell_type": "markdown",
   "metadata": {
    "id": "vHWnyaMpSECR"
   },
   "source": [
    "# 1. Data Preparation"
   ]
  },
  {
   "cell_type": "code",
   "execution_count": null,
   "metadata": {
    "scrolled": true
   },
   "outputs": [],
   "source": [
    "!python -m pip install git+https://github.com/cqels/vision.git --force\n",
    "%cd mmdetection/"
   ]
  },
  {
   "cell_type": "code",
   "execution_count": null,
   "metadata": {},
   "outputs": [],
   "source": [
    "import shutil\n",
    "data_path = 'data/image_dataset/coco/'\n",
    "annotated_path = ''\n",
    "if annotated_path:\n",
    "    os.makedirs(annotated_path, exist_ok=True)\n",
    "    if annotated_path:\n",
    "    os.makedirs(annotated_path, exist_ok=True)\n",
    "\n",
    "    for filename in os.listdir(data_path):\n",
    "        source_file = os.path.join(data_path, filename)\n",
    "        destination_file = os.path.join(annotated_path, filename)\n",
    "    \n",
    "        if os.path.isfile(source_file):\n",
    "            shutil.copy(source_file, destination_file)\n",
    "            print(f\"Copied: {source_file} to {destination_file}\")\n",
    "else:\n",
    "    print(\"Error: annotated_path is not defined.\")"
   ]
  },
  {
   "cell_type": "markdown",
   "metadata": {
    "id": "jSaW9721CXPE"
   },
   "source": [
    "# 2. Object Detection in Practice starting from Model Builder"
   ]
  },
  {
   "cell_type": "markdown",
   "metadata": {
    "id": "RZ4e_tlQ6R20"
   },
   "source": [
    "## 2.1 Prepare and set parameters for training and evaluation"
   ]
  },
  {
   "cell_type": "code",
   "execution_count": null,
   "metadata": {
    "id": "38x2pe0OSECd"
   },
   "outputs": [],
   "source": [
    "from os.path import join as opj\n",
    "from shutil import copy\n",
    "from torch_model_zoo import utils\n",
    "from mmdetection_configs import configs_fcos_mb\n",
    "import json\n",
    "\n",
    "path_to_anno_mixedDatasets = '/home/mb/mmdetection/data/image_dataset/coco/annotation.json'\n",
    "with open(path_to_anno_mixedDatasets) as file:\n",
    "    result = json.load(file)\n",
    "print(result['images'][0])\n",
    "params = utils.prepare_for_training(path_to_anno_mixedDatasets, result, existed_data='/home/mb/mmdetection/data/image_dataset/coco/', filter_cat_nms=None)\n",
    "path_to_config = 'configs/fcos/fcos_visionKG.py'\n",
    "# with open(path_to_anno_mixedDatasets) as file:\n",
    "#     config = json.load(file)\n",
    "#     print(config)\n",
    "path_to_work_dir = 'mixedDatasets/logs_visionKG/'\n",
    "copy(configs_fcos_mb.__file__, path_to_config)\n",
    "nms_categories = params['CAT_NMS']\n",
    "num_categories = len(nms_categories)"
   ]
  },
  {
   "cell_type": "markdown",
   "metadata": {
    "id": "fwujjB2hLyk_"
   },
   "source": [
    "## 2.2 Data-Playground"
   ]
  },
  {
   "cell_type": "code",
   "execution_count": null,
   "metadata": {
    "id": "NSxR5mGTL1Cg"
   },
   "outputs": [],
   "source": [
    "if num_categories > 4:\n",
    "  cat_nms = nms_categories[0:4]\n",
    "else:\n",
    "  cat_nms = nms_categories\n",
    "utils.show_annotation(path_to_anno_mixedDatasets, cat_nms, show_num=6)\n",
    "utils.show_cat_distribution(path_to_anno_mixedDatasets, cat_nms)"
   ]
  },
  {
   "cell_type": "markdown",
   "metadata": {
    "id": "6HNbl_TRC5q8"
   },
   "source": [
    "## 2.3 Perform Training & Evaluation on your chosen Object Detection tool"
   ]
  },
  {
   "cell_type": "code",
   "execution_count": null,
   "metadata": {
    "id": "Y6E_Vv_OVQHV",
    "scrolled": true
   },
   "outputs": [],
   "source": [
    "# Training based on the queried MixedDataset\n",
    "# For more params-setting, please check:\n",
    "# https://mmdetection.readthedocs.io/en/latest/\n",
    "%run tools/train.py {path_to_config} \\\n",
    "--cfg-options model.bbox_head.num_classes={num_categories} \\\n",
    "train_dataloader.dataset.metainfo.classes=\"$nms_categories\" val_dataloader.dataset.metainfo.classes=\"$nms_categories\""
   ]
  }
 ],
 "metadata": {
  "accelerator": "GPU",
  "colab": {
   "name": "tutorials_detection_mmdetection(2)(10).ipynb",
   "provenance": []
  },
  "kernelspec": {
   "display_name": "Python 3 (ipykernel)",
   "language": "python",
   "name": "python3"
  },
  "language_info": {
   "codemirror_mode": {
    "name": "ipython",
    "version": 3
   },
   "file_extension": ".py",
   "mimetype": "text/x-python",
   "name": "python",
   "nbconvert_exporter": "python",
   "pygments_lexer": "ipython3",
   "version": "3.10.12"
  },
  "vscode": {
   "interpreter": {
    "hash": "d034eb8964615eb9f1f299ed9ec7ff05e43fa738e98a29e50204350da442bfaf"
   }
  }
 },
 "nbformat": 4,
 "nbformat_minor": 4
}
